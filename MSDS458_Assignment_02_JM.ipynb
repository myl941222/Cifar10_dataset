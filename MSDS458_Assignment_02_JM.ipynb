{
  "nbformat": 4,
  "nbformat_minor": 0,
  "metadata": {
    "colab": {
      "name": "MSDS458_Assignment_02_JM.ipynb",
      "provenance": [],
      "collapsed_sections": [],
      "machine_shape": "hm",
      "include_colab_link": true
    },
    "kernelspec": {
      "display_name": "Python 3",
      "language": "python",
      "name": "python3"
    },
    "language_info": {
      "codemirror_mode": {
        "name": "ipython",
        "version": 3
      },
      "file_extension": ".py",
      "mimetype": "text/x-python",
      "name": "python",
      "nbconvert_exporter": "python",
      "pygments_lexer": "ipython3",
      "version": "3.6.9"
    },
    "toc": {
      "base_numbering": 1,
      "nav_menu": {},
      "number_sections": false,
      "sideBar": true,
      "skip_h1_title": false,
      "title_cell": "Table of Contents",
      "title_sidebar": "Contents",
      "toc_cell": false,
      "toc_position": {},
      "toc_section_display": true,
      "toc_window_display": false
    },
    "accelerator": "TPU"
  },
  "cells": [
    {
      "cell_type": "markdown",
      "metadata": {
        "id": "view-in-github",
        "colab_type": "text"
      },
      "source": [
        "<a href=\"https://colab.research.google.com/github/myl941222/Cifar10_dataset/blob/main/MSDS458_Assignment_02_JM.ipynb\" target=\"_parent\"><img src=\"https://colab.research.google.com/assets/colab-badge.svg\" alt=\"Open In Colab\"/></a>"
      ]
    },
    {
      "cell_type": "markdown",
      "metadata": {
        "id": "sSPcQhKUBQS2"
      },
      "source": [
        "## Import packages needed "
      ]
    },
    {
      "cell_type": "code",
      "metadata": {
        "id": "eHmjw7WoBQS2"
      },
      "source": [
        "# Helper libraries\n",
        "import datetime\n",
        "from packaging import version\n",
        "import matplotlib.pyplot as plt\n",
        "import seaborn as sns\n",
        "import time\n",
        "\n",
        "import sklearn\n",
        "from sklearn.metrics import confusion_matrix\n",
        "from collections import Counter\n",
        "import numpy as np\n",
        "import pandas as pd\n",
        "\n",
        "# TensorFlow and tf.keras\n",
        "import tensorflow as tf\n",
        "from tensorflow import keras\n",
        "from tensorflow.keras.preprocessing import image\n",
        "from tensorflow.keras.utils import to_categorical\n",
        "from tensorflow.keras import models, layers\n",
        "from tensorflow.keras.models import Sequential\n",
        "from tensorflow.keras.layers import Conv2D, MaxPooling2D\n",
        "from tensorflow.keras.layers import Dropout, Flatten, Input, Dense\n",
        "\n",
        "\n",
        "import tensorflow as tf\n",
        "from tensorflow.keras.utils import to_categorical\n",
        "from tensorflow import keras\n",
        "from tensorflow.keras import models\n",
        "from tensorflow.keras.models import Sequential\n",
        "from tensorflow.keras.layers import Dense, Flatten\n",
        "from tensorflow.keras.datasets import mnist"
      ],
      "execution_count": null,
      "outputs": []
    },
    {
      "cell_type": "code",
      "metadata": {
        "id": "_cXetOQXBQS3"
      },
      "source": [
        "%matplotlib inline\n",
        "np.set_printoptions(precision=3, suppress=True)"
      ],
      "execution_count": null,
      "outputs": []
    },
    {
      "cell_type": "markdown",
      "metadata": {
        "id": "yIDm78WyBQS3"
      },
      "source": [
        "### Verify TensorFlow Version and Keras Version"
      ]
    },
    {
      "cell_type": "code",
      "metadata": {
        "colab": {
          "base_uri": "https://localhost:8080/"
        },
        "id": "Z54Ct2ouBQS3",
        "outputId": "b413a67f-da34-4e82-d207-85f2286dd31e"
      },
      "source": [
        "print(\"This notebook requires TensorFlow 2.0 or above\")\n",
        "print(\"TensorFlow version: \", tf.__version__)\n",
        "assert version.parse(tf.__version__).release[0] >=2"
      ],
      "execution_count": null,
      "outputs": [
        {
          "output_type": "stream",
          "text": [
            "This notebook requires TensorFlow 2.0 or above\n",
            "TensorFlow version:  2.5.0\n"
          ],
          "name": "stdout"
        }
      ]
    },
    {
      "cell_type": "code",
      "metadata": {
        "colab": {
          "base_uri": "https://localhost:8080/"
        },
        "id": "3dgj2RJnBQS6",
        "outputId": "aea01446-86ec-4862-9b2b-1b074d5ebcad"
      },
      "source": [
        "print(\"Keras version: \", keras.__version__)"
      ],
      "execution_count": null,
      "outputs": [
        {
          "output_type": "stream",
          "text": [
            "Keras version:  2.5.0\n"
          ],
          "name": "stdout"
        }
      ]
    },
    {
      "cell_type": "markdown",
      "metadata": {
        "id": "ApjAZzsZBQS6"
      },
      "source": [
        "### Mount Google Drive to Colab Enviorment"
      ]
    },
    {
      "cell_type": "code",
      "metadata": {
        "colab": {
          "base_uri": "https://localhost:8080/"
        },
        "id": "UqJfFzLIBQS6",
        "outputId": "f18cc3a7-5f6e-4316-9ad0-cdb7de851f62"
      },
      "source": [
        "from google.colab import drive\n",
        "drive.mount('/content/gdrive')"
      ],
      "execution_count": null,
      "outputs": [
        {
          "output_type": "stream",
          "text": [
            "Mounted at /content/gdrive\n"
          ],
          "name": "stdout"
        }
      ]
    },
    {
      "cell_type": "code",
      "metadata": {
        "id": "thzn80jMBQS6",
        "colab": {
          "base_uri": "https://localhost:8080/"
        },
        "outputId": "80cec190-f162-46e6-a3e7-fc738940ed2f"
      },
      "source": [
        "(train_images, train_labels),(test_images, test_labels)= tf.keras.datasets.cifar10.load_data()"
      ],
      "execution_count": null,
      "outputs": [
        {
          "output_type": "stream",
          "text": [
            "Downloading data from https://www.cs.toronto.edu/~kriz/cifar-10-python.tar.gz\n",
            "170500096/170498071 [==============================] - 2s 0us/step\n"
          ],
          "name": "stdout"
        }
      ]
    },
    {
      "cell_type": "code",
      "metadata": {
        "colab": {
          "base_uri": "https://localhost:8080/"
        },
        "id": "un0LuWX2BQS7",
        "outputId": "68f4c2de-45d4-488e-c7f6-e2fee927a2c7"
      },
      "source": [
        "print('train_images:\\t{}'.format(train_images.shape))\n",
        "print('train_labels:\\t{}'.format(train_labels.shape))\n",
        "print('test_images:\\t\\t{}'.format(test_images.shape))\n",
        "print('test_labels:\\t\\t{}'.format(test_labels.shape))"
      ],
      "execution_count": null,
      "outputs": [
        {
          "output_type": "stream",
          "text": [
            "train_images:\t(50000, 32, 32, 3)\n",
            "train_labels:\t(50000, 1)\n",
            "test_images:\t\t(10000, 32, 32, 3)\n",
            "test_labels:\t\t(10000, 1)\n"
          ],
          "name": "stdout"
        }
      ]
    },
    {
      "cell_type": "code",
      "metadata": {
        "colab": {
          "base_uri": "https://localhost:8080/"
        },
        "id": "L_gEoattBQS7",
        "outputId": "492add16-c5df-4ade-a07d-799fdd4708c2"
      },
      "source": [
        "print(\"First ten labels training dataset:\\n {}\\n\".format(train_labels[0:10]))\n",
        "print(\"This output the numeric label, need to convert to item description\")"
      ],
      "execution_count": null,
      "outputs": [
        {
          "output_type": "stream",
          "text": [
            "First ten labels training dataset:\n",
            " [[6]\n",
            " [9]\n",
            " [9]\n",
            " [4]\n",
            " [1]\n",
            " [1]\n",
            " [2]\n",
            " [7]\n",
            " [8]\n",
            " [3]]\n",
            "\n",
            "This output the numeric label, need to convert to item description\n"
          ],
          "name": "stdout"
        }
      ]
    },
    {
      "cell_type": "markdown",
      "metadata": {
        "id": "Fpba3_-nBQS7"
      },
      "source": [
        "### Plot Examples"
      ]
    },
    {
      "cell_type": "code",
      "metadata": {
        "id": "JSoJySfUBQS7"
      },
      "source": [
        "def get_three_classes(x, y):\n",
        "    def indices_of(class_id):\n",
        "        indices, _ = np.where(y == float(class_id))\n",
        "        return indices\n",
        "\n",
        "    indices = np.concatenate([indices_of(0), indices_of(1), indices_of(2)], axis=0)\n",
        "    \n",
        "    x = x[indices]\n",
        "    y = y[indices]\n",
        "    \n",
        "    count = x.shape[0]\n",
        "    indices = np.random.choice(range(count), count, replace=False)\n",
        "    \n",
        "    x = x[indices]\n",
        "    y = y[indices]\n",
        "    \n",
        "    y = tf.keras.utils.to_categorical(y)\n",
        "    \n",
        "    return x, y"
      ],
      "execution_count": null,
      "outputs": []
    },
    {
      "cell_type": "code",
      "metadata": {
        "id": "E-OB0cAWBQS7"
      },
      "source": [
        "# (x_train, y_train), (x_test, y_test) = tf.keras.datasets.cifar10.load_data()"
      ],
      "execution_count": null,
      "outputs": []
    },
    {
      "cell_type": "code",
      "metadata": {
        "id": "w4JdRKm5BQS7"
      },
      "source": [
        "x_preview, y_preview = get_three_classes(x_train, y_train)\n",
        "x_preview, y_preview = get_three_classes(x_test, y_test)"
      ],
      "execution_count": null,
      "outputs": []
    },
    {
      "cell_type": "code",
      "metadata": {
        "colab": {
          "base_uri": "https://localhost:8080/",
          "height": 289
        },
        "id": "PrUAgX78BQS8",
        "outputId": "58546361-37e4-469a-f4ea-ba184651acb6"
      },
      "source": [
        "class_names_preview = ['aeroplane', 'car', 'bird']\n",
        "\n",
        "def show_random_examples(x, y, p):\n",
        "    indices = np.random.choice(range(x.shape[0]), 10, replace=False)\n",
        "    \n",
        "    x = x[indices]\n",
        "    y = y[indices]\n",
        "    p = p[indices]\n",
        "    \n",
        "    plt.figure(figsize=(10, 5))\n",
        "    for i in range(10):\n",
        "        plt.subplot(2, 5, i + 1)\n",
        "        plt.imshow(x[i])\n",
        "        plt.xticks([])\n",
        "        plt.yticks([])\n",
        "        col = 'green' if np.argmax(y[i]) == np.argmax(p[i]) else 'red'\n",
        "        plt.xlabel(class_names_preview[np.argmax(p[i])], color=col)\n",
        "    plt.show()\n",
        "\n",
        "show_random_examples(x_preview, y_preview, y_preview)"
      ],
      "execution_count": null,
      "outputs": [
        {
          "output_type": "display_data",
          "data": {
            "image/png": "[encoded data removed]",
            "text/plain": [
              "<Figure size 720x360 with 10 Axes>"
            ]
          },
          "metadata": {
            "tags": []
          }
        }
      ]
    },
    {
      "cell_type": "markdown",
      "metadata": {
        "id": "rjdk5-jvBQS8"
      },
      "source": [
        "### Random Review of Examples "
      ]
    },
    {
      "cell_type": "code",
      "metadata": {
        "colab": {
          "base_uri": "https://localhost:8080/",
          "height": 289
        },
        "id": "P-JkYdP9BQS8",
        "outputId": "13cf947d-4576-449c-a750-8d33836bc5b4"
      },
      "source": [
        "show_random_examples(x_preview, y_preview, y_preview)"
      ],
      "execution_count": null,
      "outputs": [
        {
          "output_type": "display_data",
          "data": {
            "image/png": "[encoded data removed]",
            "text/plain": [
              "<Figure size 720x360 with 10 Axes>"
            ]
          },
          "metadata": {
            "tags": []
          }
        }
      ]
    },
    {
      "cell_type": "markdown",
      "metadata": {
        "id": "zmOULZ_8BQS8"
      },
      "source": [
        "## Preprocessing Data for Model Development"
      ]
    },
    {
      "cell_type": "code",
      "metadata": {
        "id": "CoMgmgqImNBN"
      },
      "source": [
        ""
      ],
      "execution_count": null,
      "outputs": []
    },
    {
      "cell_type": "markdown",
      "metadata": {
        "id": "fWrM9M7tBQS9"
      },
      "source": [
        "The labels are an array of integers, ranging from 0 to 9. These correspond to the class of clothing the image represents:\n",
        "\n",
        "|Label  |Class_  |\n",
        "|-------|--------|\n",
        "|0|\tairplane     |\n",
        "|1|\tautomobile   |\n",
        "|2|\tbird         |\n",
        "|3|\tcat          |\n",
        "|4|\tdeer         |\n",
        "|5|\tdog          |\n",
        "|6|\tfrog         |\n",
        "|7|\thorse        |\n",
        "|8|\tship         |\n",
        "|9|\ttruck        |"
      ]
    },
    {
      "cell_type": "code",
      "metadata": {
        "id": "0pOir5__BQS9"
      },
      "source": [
        "class_names = ['airplane'\n",
        ",'automobile'\n",
        ",'bird'\n",
        ",'cat'\n",
        ",'deer'\n",
        ",'dog'\n",
        ",'frog' \n",
        ",'horse'\n",
        ",'ship'\n",
        ",'truck']"
      ],
      "execution_count": null,
      "outputs": []
    },
    {
      "cell_type": "code",
      "metadata": {
        "id": "42FmtjcVBQS9"
      },
      "source": [
        "train_images_norm = train_images.astype('float32')/255.\n",
        "test_images_norm = test_images.astype('float32')/255."
      ],
      "execution_count": null,
      "outputs": []
    },
    {
      "cell_type": "code",
      "metadata": {
        "colab": {
          "base_uri": "https://localhost:8080/"
        },
        "id": "nNBnEiGXBQS9",
        "outputId": "75a04625-beae-47d3-a754-c9fe413907be"
      },
      "source": [
        "train_images_norm.shape, test_images_norm.shape"
      ],
      "execution_count": null,
      "outputs": [
        {
          "output_type": "execute_result",
          "data": {
            "text/plain": [
              "((50000, 32, 32, 3), (10000, 32, 32, 3))"
            ]
          },
          "metadata": {
            "tags": []
          },
          "execution_count": 16
        }
      ]
    },
    {
      "cell_type": "markdown",
      "metadata": {
        "id": "DIBw_FpHBQS9"
      },
      "source": [
        "## Validating our approach\n",
        "\n",
        "10,000 samples of our training data to use as a validation set. "
      ]
    },
    {
      "cell_type": "code",
      "metadata": {
        "id": "3O46PLZ_BQS9"
      },
      "source": [
        "val_images_norm, train_images_norm = train_images_norm[:3000], train_images_norm[3000:] \n",
        "val_labels, train_labels = train_labels[:3000], train_labels[3000:]"
      ],
      "execution_count": null,
      "outputs": []
    },
    {
      "cell_type": "code",
      "metadata": {
        "colab": {
          "base_uri": "https://localhost:8080/"
        },
        "id": "tVeC1hPGBQS9",
        "outputId": "229a0c4a-78e3-44e9-faea-1315bbee89b0"
      },
      "source": [
        "val_images_norm.shape, val_labels.shape"
      ],
      "execution_count": null,
      "outputs": [
        {
          "output_type": "execute_result",
          "data": {
            "text/plain": [
              "((3000, 32, 32, 3), (3000, 1))"
            ]
          },
          "metadata": {
            "tags": []
          },
          "execution_count": 18
        }
      ]
    },
    {
      "cell_type": "code",
      "metadata": {
        "colab": {
          "base_uri": "https://localhost:8080/"
        },
        "id": "LJUZ31c5BQS9",
        "outputId": "259e94ba-09f4-496c-8c1b-805555861ba5"
      },
      "source": [
        "train_images_norm.shape, train_labels.shape"
      ],
      "execution_count": null,
      "outputs": [
        {
          "output_type": "execute_result",
          "data": {
            "text/plain": [
              "((47000, 32, 32, 3), (47000, 1))"
            ]
          },
          "metadata": {
            "tags": []
          },
          "execution_count": 19
        }
      ]
    },
    {
      "cell_type": "markdown",
      "metadata": {
        "id": "SMrBHqFDBQS-"
      },
      "source": [
        "## Create the Model"
      ]
    },
    {
      "cell_type": "code",
      "metadata": {
        "id": "AhR-S9O1g5dN"
      },
      "source": [
        "### experiment 1: DNN with 2 layers (no regularization)"
      ],
      "execution_count": null,
      "outputs": []
    },
    {
      "cell_type": "code",
      "metadata": {
        "id": "E55095MZg56N"
      },
      "source": [
        "model_1 = Sequential()\n",
        "model_1.add(Flatten(input_shape=[32, 32, 3]))\n",
        "model_1.add(Dense(128, activation = tf.nn.relu))\n",
        "model_1.add(Dense(10,activation = tf.nn.softmax))"
      ],
      "execution_count": null,
      "outputs": []
    },
    {
      "cell_type": "code",
      "metadata": {
        "colab": {
          "base_uri": "https://localhost:8080/"
        },
        "id": "zyPERk7lg59C",
        "outputId": "6eec3d0d-7fbc-44cc-aa30-eec2bcf243ea"
      },
      "source": [
        "model_1.summary()"
      ],
      "execution_count": null,
      "outputs": [
        {
          "output_type": "stream",
          "text": [
            "Model: \"sequential\"\n",
            "_________________________________________________________________\n",
            "Layer (type)                 Output Shape              Param #   \n",
            "=================================================================\n",
            "flatten (Flatten)            (None, 3072)              0         \n",
            "_________________________________________________________________\n",
            "dense (Dense)                (None, 128)               393344    \n",
            "_________________________________________________________________\n",
            "dense_1 (Dense)              (None, 10)                1290      \n",
            "=================================================================\n",
            "Total params: 394,634\n",
            "Trainable params: 394,634\n",
            "Non-trainable params: 0\n",
            "_________________________________________________________________\n"
          ],
          "name": "stdout"
        }
      ]
    },
    {
      "cell_type": "code",
      "metadata": {
        "id": "LDWm0zpXjCx1"
      },
      "source": [
        "model_1.compile(optimizer='rmsprop',           \n",
        "               loss = 'sparse_categorical_crossentropy',\n",
        "               metrics=['accuracy'])\n",
        "start_time_E1 = time.process_time()\n"
      ],
      "execution_count": null,
      "outputs": []
    },
    {
      "cell_type": "code",
      "metadata": {
        "colab": {
          "base_uri": "https://localhost:8080/"
        },
        "id": "b2-QVwh0jC1L",
        "outputId": "1fd1a42b-92e3-4b47-b27b-7c4aeb0efdff"
      },
      "source": [
        "history_1 = model_1.fit(\n",
        "    train_images_norm\n",
        "    ,train_labels\n",
        "    ,epochs = 30\n",
        "    ,validation_data=(val_images_norm,val_labels)\n",
        "    ,callbacks=[tf.keras.callbacks.EarlyStopping(monitor='val_accuracy', patience=2)] \n",
        "    )"
      ],
      "execution_count": null,
      "outputs": [
        {
          "output_type": "stream",
          "text": [
            "Epoch 1/30\n",
            "1469/1469 [==============================] - 7s 4ms/step - loss: 1.9730 - accuracy: 0.2989 - val_loss: 1.9201 - val_accuracy: 0.3123\n",
            "Epoch 2/30\n",
            "1469/1469 [==============================] - 6s 4ms/step - loss: 1.7673 - accuracy: 0.3717 - val_loss: 1.6952 - val_accuracy: 0.3917\n",
            "Epoch 3/30\n",
            "1469/1469 [==============================] - 6s 4ms/step - loss: 1.7055 - accuracy: 0.3935 - val_loss: 1.6458 - val_accuracy: 0.4167\n",
            "Epoch 4/30\n",
            "1469/1469 [==============================] - 6s 4ms/step - loss: 1.6730 - accuracy: 0.4084 - val_loss: 1.6816 - val_accuracy: 0.3970\n",
            "Epoch 5/30\n",
            "1469/1469 [==============================] - 6s 4ms/step - loss: 1.6517 - accuracy: 0.4150 - val_loss: 1.6305 - val_accuracy: 0.4210\n",
            "Epoch 6/30\n",
            "1469/1469 [==============================] - 6s 4ms/step - loss: 1.6322 - accuracy: 0.4209 - val_loss: 1.6815 - val_accuracy: 0.3937\n",
            "Epoch 7/30\n",
            "1469/1469 [==============================] - 6s 4ms/step - loss: 1.6146 - accuracy: 0.4295 - val_loss: 1.6397 - val_accuracy: 0.4210\n"
          ],
          "name": "stdout"
        }
      ]
    },
    {
      "cell_type": "code",
      "metadata": {
        "colab": {
          "base_uri": "https://localhost:8080/"
        },
        "id": "wAIZdmunjC3-",
        "outputId": "f0aa5e3a-7d3b-4657-d243-7fff494456a9"
      },
      "source": [
        "end_time_E1 = time.process_time()\n",
        "loss_1, accuracy_1 = model_1.evaluate(test_images_norm, test_labels)\n",
        "print('test set accuracy: ', accuracy_1 * 100)\n"
      ],
      "execution_count": null,
      "outputs": [
        {
          "output_type": "stream",
          "text": [
            "313/313 [==============================] - 0s 1ms/step - loss: 1.6248 - accuracy: 0.4238\n",
            "test set accuracy:  42.3799991607666\n"
          ],
          "name": "stdout"
        }
      ]
    },
    {
      "cell_type": "code",
      "metadata": {
        "colab": {
          "base_uri": "https://localhost:8080/"
        },
        "id": "sq3WhzZahMC3",
        "outputId": "51999a4c-1627-4e66-be39-a0b0b4078ed5"
      },
      "source": [
        "process_time_E1 = end_time_E1 - start_time_E1\n",
        "print(process_time_E1)"
      ],
      "execution_count": null,
      "outputs": [
        {
          "output_type": "stream",
          "text": [
            "276.973938508\n"
          ],
          "name": "stdout"
        }
      ]
    },
    {
      "cell_type": "code",
      "metadata": {
        "id": "5dhD7YhUjC6M"
      },
      "source": [
        "### experiment 2: DNN with 3 layers (no regularization)"
      ],
      "execution_count": null,
      "outputs": []
    },
    {
      "cell_type": "code",
      "metadata": {
        "id": "l8PcObbMjC8t"
      },
      "source": [
        "model_2 = Sequential()\n",
        "model_2.add(Flatten(input_shape=[32, 32, 3]))\n",
        "model_2.add(Dense(128, activation='relu'))\n",
        "model_2.add(Dense(64,activation = 'relu'))\n",
        "model_2.add(Dense(10,activation = 'softmax'))"
      ],
      "execution_count": null,
      "outputs": []
    },
    {
      "cell_type": "code",
      "metadata": {
        "colab": {
          "base_uri": "https://localhost:8080/"
        },
        "id": "GrlIadQqjC_G",
        "outputId": "43e9b359-74a2-4031-cbde-4c34a0e8e214"
      },
      "source": [
        "model_2.summary()"
      ],
      "execution_count": null,
      "outputs": [
        {
          "output_type": "stream",
          "text": [
            "Model: \"sequential_1\"\n",
            "_________________________________________________________________\n",
            "Layer (type)                 Output Shape              Param #   \n",
            "=================================================================\n",
            "flatten_1 (Flatten)          (None, 3072)              0         \n",
            "_________________________________________________________________\n",
            "dense_2 (Dense)              (None, 128)               393344    \n",
            "_________________________________________________________________\n",
            "dense_3 (Dense)              (None, 64)                8256      \n",
            "_________________________________________________________________\n",
            "dense_4 (Dense)              (None, 10)                650       \n",
            "=================================================================\n",
            "Total params: 402,250\n",
            "Trainable params: 402,250\n",
            "Non-trainable params: 0\n",
            "_________________________________________________________________\n"
          ],
          "name": "stdout"
        }
      ]
    },
    {
      "cell_type": "code",
      "metadata": {
        "id": "b8MQksyGvkOA"
      },
      "source": [
        "model_2.compile(optimizer='rmsprop',           \n",
        "               loss = 'sparse_categorical_crossentropy',\n",
        "               metrics=['accuracy'])\n",
        "start_time_E2 = time.process_time()"
      ],
      "execution_count": null,
      "outputs": []
    },
    {
      "cell_type": "code",
      "metadata": {
        "colab": {
          "base_uri": "https://localhost:8080/"
        },
        "id": "wC8TNIgbvkRG",
        "outputId": "2f308eb0-5ca4-49f0-ea6b-3c118e1f94d4"
      },
      "source": [
        "history_2 = model_2.fit(\n",
        "    train_images_norm\n",
        "    ,train_labels\n",
        "    ,epochs = 30\n",
        "    ,validation_data=(val_images_norm,val_labels)\n",
        "    ,callbacks=[tf.keras.callbacks.EarlyStopping(monitor='val_accuracy', patience=2)] \n",
        "    )"
      ],
      "execution_count": null,
      "outputs": [
        {
          "output_type": "stream",
          "text": [
            "Epoch 1/30\n",
            "1469/1469 [==============================] - 6s 4ms/step - loss: 1.9385 - accuracy: 0.3034 - val_loss: 1.7570 - val_accuracy: 0.3773\n",
            "Epoch 2/30\n",
            "1469/1469 [==============================] - 6s 4ms/step - loss: 1.7449 - accuracy: 0.3727 - val_loss: 1.6934 - val_accuracy: 0.3903\n",
            "Epoch 3/30\n",
            "1469/1469 [==============================] - 6s 4ms/step - loss: 1.6768 - accuracy: 0.3990 - val_loss: 1.7327 - val_accuracy: 0.3803\n",
            "Epoch 4/30\n",
            "1469/1469 [==============================] - 6s 4ms/step - loss: 1.6366 - accuracy: 0.4178 - val_loss: 1.6939 - val_accuracy: 0.3977\n",
            "Epoch 5/30\n",
            "1469/1469 [==============================] - 6s 4ms/step - loss: 1.6064 - accuracy: 0.4272 - val_loss: 1.5982 - val_accuracy: 0.4297\n",
            "Epoch 6/30\n",
            "1469/1469 [==============================] - 6s 4ms/step - loss: 1.5802 - accuracy: 0.4403 - val_loss: 1.5742 - val_accuracy: 0.4433\n",
            "Epoch 7/30\n",
            "1469/1469 [==============================] - 6s 4ms/step - loss: 1.5617 - accuracy: 0.4461 - val_loss: 1.6523 - val_accuracy: 0.4183\n",
            "Epoch 8/30\n",
            "1469/1469 [==============================] - 6s 4ms/step - loss: 1.5502 - accuracy: 0.4485 - val_loss: 1.5536 - val_accuracy: 0.4380\n"
          ],
          "name": "stdout"
        }
      ]
    },
    {
      "cell_type": "code",
      "metadata": {
        "colab": {
          "base_uri": "https://localhost:8080/"
        },
        "id": "dbNn-CTJvkUd",
        "outputId": "b7cf79aa-f4e5-425e-ac92-36d7fd960739"
      },
      "source": [
        "end_time_E2 = time.process_time()\n",
        "loss_2, accuracy_2 = model_2.evaluate(test_images_norm, test_labels)\n",
        "print('test set accuracy: ', accuracy_2 * 100)\n",
        "\n"
      ],
      "execution_count": null,
      "outputs": [
        {
          "output_type": "stream",
          "text": [
            "313/313 [==============================] - 0s 1ms/step - loss: 1.5521 - accuracy: 0.4494\n",
            "test set accuracy:  44.940000772476196\n"
          ],
          "name": "stdout"
        }
      ]
    },
    {
      "cell_type": "code",
      "metadata": {
        "colab": {
          "base_uri": "https://localhost:8080/"
        },
        "id": "uVJac5OrnkRS",
        "outputId": "6f9f7bba-7f0d-4327-faee-591ea807cb44"
      },
      "source": [
        "process_time_E2 = end_time_E2 - start_time_E2\n",
        "print(process_time_E2)"
      ],
      "execution_count": null,
      "outputs": [
        {
          "output_type": "stream",
          "text": [
            "318.391216638\n"
          ],
          "name": "stdout"
        }
      ]
    },
    {
      "cell_type": "code",
      "metadata": {
        "id": "MH7nT9mYvkW7"
      },
      "source": [
        "### experiment 3: CNN model with 2 Max pooling layers (no regularizers)"
      ],
      "execution_count": null,
      "outputs": []
    },
    {
      "cell_type": "code",
      "metadata": {
        "id": "DqVt8pfOFYcw"
      },
      "source": [
        "model_3 = models.Sequential()\n",
        "model_3.add(layers.Conv2D(filters=128, kernel_size=(3, 3), strides=(1, 1), activation=tf.nn.relu,input_shape=(32, 32, 3)))\n",
        "model_3.add(layers.MaxPool2D((2, 2),strides=2))\n",
        "model_3.add(layers.Dropout(0.3))\n",
        "model_3.add(layers.Conv2D(filters=512, kernel_size=(3, 3), strides=(1, 1), activation=tf.nn.relu))\n",
        "model_3.add(layers.MaxPool2D(pool_size=(2, 2),strides=2))\n",
        "model_3.add(layers.Dropout(0.3))\n",
        "model_3.add(layers.Flatten())\n",
        "model_3.add(layers.Dense(units=384, activation=tf.nn.relu))\n",
        "model_3.add(layers.Dense(units=10, activation=tf.nn.softmax))"
      ],
      "execution_count": null,
      "outputs": []
    },
    {
      "cell_type": "code",
      "metadata": {
        "colab": {
          "base_uri": "https://localhost:8080/"
        },
        "id": "Uee8QTJzkQ0E",
        "outputId": "e67490b6-33ed-48a5-a9b4-75a23ca708c0"
      },
      "source": [
        "model_3.summary()"
      ],
      "execution_count": null,
      "outputs": [
        {
          "output_type": "stream",
          "text": [
            "Model: \"sequential_2\"\n",
            "_________________________________________________________________\n",
            "Layer (type)                 Output Shape              Param #   \n",
            "=================================================================\n",
            "conv2d (Conv2D)              (None, 30, 30, 128)       3584      \n",
            "_________________________________________________________________\n",
            "max_pooling2d (MaxPooling2D) (None, 15, 15, 128)       0         \n",
            "_________________________________________________________________\n",
            "dropout (Dropout)            (None, 15, 15, 128)       0         \n",
            "_________________________________________________________________\n",
            "conv2d_1 (Conv2D)            (None, 13, 13, 512)       590336    \n",
            "_________________________________________________________________\n",
            "max_pooling2d_1 (MaxPooling2 (None, 6, 6, 512)         0         \n",
            "_________________________________________________________________\n",
            "dropout_1 (Dropout)          (None, 6, 6, 512)         0         \n",
            "_________________________________________________________________\n",
            "flatten_2 (Flatten)          (None, 18432)             0         \n",
            "_________________________________________________________________\n",
            "dense_5 (Dense)              (None, 384)               7078272   \n",
            "_________________________________________________________________\n",
            "dense_6 (Dense)              (None, 10)                3850      \n",
            "=================================================================\n",
            "Total params: 7,676,042\n",
            "Trainable params: 7,676,042\n",
            "Non-trainable params: 0\n",
            "_________________________________________________________________\n"
          ],
          "name": "stdout"
        }
      ]
    },
    {
      "cell_type": "code",
      "metadata": {
        "id": "v1TZmg-ekQ3E"
      },
      "source": [
        "model_3.compile(optimizer='adam',\n",
        "              loss=tf.keras.losses.SparseCategoricalCrossentropy(from_logits=False),\n",
        "              metrics=['accuracy'])\n",
        "start_time_E3 = time.process_time()\n"
      ],
      "execution_count": null,
      "outputs": []
    },
    {
      "cell_type": "code",
      "metadata": {
        "colab": {
          "base_uri": "https://localhost:8080/"
        },
        "id": "9BUuMbJvkVII",
        "outputId": "06675707-4b78-45dc-e16a-a3dae8bf8ec1"
      },
      "source": [
        "history_3 = model_3.fit(train_images_norm\n",
        "                    ,train_labels\n",
        "                    ,epochs=30\n",
        "                    ,batch_size=512\n",
        "                    ,validation_data=(val_images_norm,val_labels)\n",
        "                    ,callbacks=[\n",
        "                    tf.keras.callbacks.EarlyStopping(monitor='val_accuracy', patience=3),\n",
        "                    tf.keras.callbacks.ModelCheckpoint('./models/model_{val_accuracy:.4f}.h5', save_best_only=True,\n",
        "                                        save_weights_only=False, monitor='val_accuracy')]                                                                                                           \n",
        "                   )"
      ],
      "execution_count": null,
      "outputs": [
        {
          "output_type": "stream",
          "text": [
            "Epoch 1/30\n",
            "92/92 [==============================] - 62s 670ms/step - loss: 1.8791 - accuracy: 0.3217 - val_loss: 1.4899 - val_accuracy: 0.4667\n",
            "Epoch 2/30\n",
            "92/92 [==============================] - 60s 653ms/step - loss: 1.4128 - accuracy: 0.4937 - val_loss: 1.2513 - val_accuracy: 0.5613\n",
            "Epoch 3/30\n",
            "92/92 [==============================] - 60s 657ms/step - loss: 1.2745 - accuracy: 0.5450 - val_loss: 1.1567 - val_accuracy: 0.5903\n",
            "Epoch 4/30\n",
            "92/92 [==============================] - 61s 658ms/step - loss: 1.1671 - accuracy: 0.5893 - val_loss: 1.0542 - val_accuracy: 0.6283\n",
            "Epoch 5/30\n",
            "92/92 [==============================] - 60s 655ms/step - loss: 1.0867 - accuracy: 0.6177 - val_loss: 1.0152 - val_accuracy: 0.6437\n",
            "Epoch 6/30\n",
            "92/92 [==============================] - 60s 657ms/step - loss: 1.0182 - accuracy: 0.6422 - val_loss: 0.9463 - val_accuracy: 0.6747\n",
            "Epoch 7/30\n",
            "92/92 [==============================] - 60s 651ms/step - loss: 0.9786 - accuracy: 0.6571 - val_loss: 0.8966 - val_accuracy: 0.6873\n",
            "Epoch 8/30\n",
            "92/92 [==============================] - 59s 645ms/step - loss: 0.9190 - accuracy: 0.6801 - val_loss: 0.8813 - val_accuracy: 0.6983\n",
            "Epoch 9/30\n",
            "92/92 [==============================] - 60s 648ms/step - loss: 0.8797 - accuracy: 0.6924 - val_loss: 0.8936 - val_accuracy: 0.6933\n",
            "Epoch 10/30\n",
            "92/92 [==============================] - 59s 644ms/step - loss: 0.8505 - accuracy: 0.7016 - val_loss: 0.9186 - val_accuracy: 0.6837\n",
            "Epoch 11/30\n",
            "92/92 [==============================] - 59s 646ms/step - loss: 0.8068 - accuracy: 0.7208 - val_loss: 0.8266 - val_accuracy: 0.7133\n",
            "Epoch 12/30\n",
            "92/92 [==============================] - 59s 644ms/step - loss: 0.7690 - accuracy: 0.7315 - val_loss: 0.8064 - val_accuracy: 0.7170\n",
            "Epoch 13/30\n",
            "92/92 [==============================] - 60s 652ms/step - loss: 0.7416 - accuracy: 0.7434 - val_loss: 0.8026 - val_accuracy: 0.7217\n",
            "Epoch 14/30\n",
            "92/92 [==============================] - 60s 657ms/step - loss: 0.7092 - accuracy: 0.7551 - val_loss: 0.7848 - val_accuracy: 0.7317\n",
            "Epoch 15/30\n",
            "92/92 [==============================] - 59s 646ms/step - loss: 0.6768 - accuracy: 0.7648 - val_loss: 0.7700 - val_accuracy: 0.7387\n",
            "Epoch 16/30\n",
            "92/92 [==============================] - 60s 647ms/step - loss: 0.6409 - accuracy: 0.7782 - val_loss: 0.7531 - val_accuracy: 0.7480\n",
            "Epoch 17/30\n",
            "92/92 [==============================] - 60s 651ms/step - loss: 0.6127 - accuracy: 0.7878 - val_loss: 0.7549 - val_accuracy: 0.7433\n",
            "Epoch 18/30\n",
            "92/92 [==============================] - 60s 649ms/step - loss: 0.5841 - accuracy: 0.7980 - val_loss: 0.7456 - val_accuracy: 0.7487\n",
            "Epoch 19/30\n",
            "92/92 [==============================] - 60s 651ms/step - loss: 0.5544 - accuracy: 0.8069 - val_loss: 0.7498 - val_accuracy: 0.7503\n",
            "Epoch 20/30\n",
            "92/92 [==============================] - 59s 644ms/step - loss: 0.5281 - accuracy: 0.8166 - val_loss: 0.7415 - val_accuracy: 0.7523\n",
            "Epoch 21/30\n",
            "92/92 [==============================] - 60s 650ms/step - loss: 0.4993 - accuracy: 0.8247 - val_loss: 0.7405 - val_accuracy: 0.7533\n",
            "Epoch 22/30\n",
            "92/92 [==============================] - 59s 644ms/step - loss: 0.4812 - accuracy: 0.8327 - val_loss: 0.7438 - val_accuracy: 0.7550\n",
            "Epoch 23/30\n",
            "92/92 [==============================] - 59s 645ms/step - loss: 0.4527 - accuracy: 0.8423 - val_loss: 0.7460 - val_accuracy: 0.7573\n",
            "Epoch 24/30\n",
            "92/92 [==============================] - 60s 649ms/step - loss: 0.4305 - accuracy: 0.8496 - val_loss: 0.7311 - val_accuracy: 0.7597\n",
            "Epoch 25/30\n",
            "92/92 [==============================] - 60s 651ms/step - loss: 0.4159 - accuracy: 0.8545 - val_loss: 0.7628 - val_accuracy: 0.7553\n",
            "Epoch 26/30\n",
            "92/92 [==============================] - 59s 642ms/step - loss: 0.3908 - accuracy: 0.8645 - val_loss: 0.7559 - val_accuracy: 0.7540\n",
            "Epoch 27/30\n",
            "92/92 [==============================] - 59s 643ms/step - loss: 0.3728 - accuracy: 0.8720 - val_loss: 0.7651 - val_accuracy: 0.7603\n",
            "Epoch 28/30\n",
            "92/92 [==============================] - 59s 642ms/step - loss: 0.3583 - accuracy: 0.8753 - val_loss: 0.8003 - val_accuracy: 0.7537\n",
            "Epoch 29/30\n",
            "92/92 [==============================] - 59s 646ms/step - loss: 0.3361 - accuracy: 0.8826 - val_loss: 0.7939 - val_accuracy: 0.7580\n",
            "Epoch 30/30\n",
            "92/92 [==============================] - 59s 645ms/step - loss: 0.3184 - accuracy: 0.8884 - val_loss: 0.7892 - val_accuracy: 0.7593\n"
          ],
          "name": "stdout"
        }
      ]
    },
    {
      "cell_type": "code",
      "metadata": {
        "colab": {
          "base_uri": "https://localhost:8080/"
        },
        "id": "qgR6fLG1vuSX",
        "outputId": "e0ecf415-c72b-48af-8d32-f2585175a9aa"
      },
      "source": [
        "end_time_E3 = time.process_time()\n",
        "loss_3, accuracy_3 = model_3.evaluate(test_images_norm, test_labels)\n",
        "print('test set accuracy: ', accuracy_3 * 100)"
      ],
      "execution_count": null,
      "outputs": [
        {
          "output_type": "stream",
          "text": [
            "313/313 [==============================] - 4s 14ms/step - loss: 0.8390 - accuracy: 0.7435\n",
            "test set accuracy:  74.34999942779541\n"
          ],
          "name": "stdout"
        }
      ]
    },
    {
      "cell_type": "code",
      "metadata": {
        "id": "0NTpxtP82_sN",
        "colab": {
          "base_uri": "https://localhost:8080/"
        },
        "outputId": "2e39c8ca-418b-4c16-ddd4-5e1aa744b76e"
      },
      "source": [
        "process_time_E3 = end_time_E3 - start_time_E3\n",
        "process_time_E3"
      ],
      "execution_count": null,
      "outputs": [
        {
          "output_type": "execute_result",
          "data": {
            "text/plain": [
              "50499.628413278995"
            ]
          },
          "metadata": {
            "tags": []
          },
          "execution_count": 40
        }
      ]
    },
    {
      "cell_type": "code",
      "metadata": {
        "id": "BDV5vC4czJKF"
      },
      "source": [
        "### experiment 4:Build CNN model with 3 convolution/ max pooling layers (no regulartization)\n"
      ],
      "execution_count": null,
      "outputs": []
    },
    {
      "cell_type": "code",
      "metadata": {
        "id": "aXd1s9G5zJHW"
      },
      "source": [
        "model_4 = models.Sequential()\n",
        "model_4.add(layers.Conv2D(filters=128, kernel_size=(3, 3), strides=(1, 1), activation=tf.nn.relu,input_shape=(32, 32, 3)))\n",
        "model_4.add(layers.MaxPool2D((2, 2),strides=2))\n",
        "model_4.add(layers.Dropout(0.3))\n",
        "model_4.add(layers.Conv2D(filters=256, kernel_size=(3, 3), strides=(1, 1), activation=tf.nn.relu))\n",
        "model_4.add(layers.MaxPool2D(pool_size=(2, 2),strides=2))\n",
        "model_4.add(layers.Dropout(0.3))\n",
        "model_4.add(layers.Conv2D(filters=512, kernel_size=(3, 3), strides=(1, 1), activation=tf.nn.relu))\n",
        "model_4.add(layers.MaxPool2D(pool_size=(2, 2),strides=2))\n",
        "model_4.add(layers.Dropout(0.3))\n",
        "model_4.add(layers.Flatten())\n",
        "model_4.add(layers.Dense(units=384, activation=tf.nn.relu))\n",
        "model_4.add(layers.Dense(units=10, activation=tf.nn.softmax))"
      ],
      "execution_count": null,
      "outputs": []
    },
    {
      "cell_type": "code",
      "metadata": {
        "colab": {
          "base_uri": "https://localhost:8080/"
        },
        "id": "qOke97D4GFm-",
        "outputId": "f5f4f1e3-da91-465a-a892-4c3b17a30c6a"
      },
      "source": [
        "model_4.summary()"
      ],
      "execution_count": null,
      "outputs": [
        {
          "output_type": "stream",
          "text": [
            "Model: \"sequential_3\"\n",
            "_________________________________________________________________\n",
            "Layer (type)                 Output Shape              Param #   \n",
            "=================================================================\n",
            "conv2d_2 (Conv2D)            (None, 30, 30, 128)       3584      \n",
            "_________________________________________________________________\n",
            "max_pooling2d_2 (MaxPooling2 (None, 15, 15, 128)       0         \n",
            "_________________________________________________________________\n",
            "dropout_2 (Dropout)          (None, 15, 15, 128)       0         \n",
            "_________________________________________________________________\n",
            "conv2d_3 (Conv2D)            (None, 13, 13, 256)       295168    \n",
            "_________________________________________________________________\n",
            "max_pooling2d_3 (MaxPooling2 (None, 6, 6, 256)         0         \n",
            "_________________________________________________________________\n",
            "dropout_3 (Dropout)          (None, 6, 6, 256)         0         \n",
            "_________________________________________________________________\n",
            "conv2d_4 (Conv2D)            (None, 4, 4, 512)         1180160   \n",
            "_________________________________________________________________\n",
            "max_pooling2d_4 (MaxPooling2 (None, 2, 2, 512)         0         \n",
            "_________________________________________________________________\n",
            "dropout_4 (Dropout)          (None, 2, 2, 512)         0         \n",
            "_________________________________________________________________\n",
            "flatten_3 (Flatten)          (None, 2048)              0         \n",
            "_________________________________________________________________\n",
            "dense_7 (Dense)              (None, 384)               786816    \n",
            "_________________________________________________________________\n",
            "dense_8 (Dense)              (None, 10)                3850      \n",
            "=================================================================\n",
            "Total params: 2,269,578\n",
            "Trainable params: 2,269,578\n",
            "Non-trainable params: 0\n",
            "_________________________________________________________________\n"
          ],
          "name": "stdout"
        }
      ]
    },
    {
      "cell_type": "code",
      "metadata": {
        "id": "TPFY9PAuGJGl"
      },
      "source": [
        "model_4.compile(optimizer='adam',\n",
        "              loss=tf.keras.losses.SparseCategoricalCrossentropy(from_logits=False),\n",
        "              metrics=['accuracy'])\n",
        "start_time_E4 = time.process_time()"
      ],
      "execution_count": null,
      "outputs": []
    },
    {
      "cell_type": "code",
      "metadata": {
        "colab": {
          "base_uri": "https://localhost:8080/"
        },
        "id": "D5IBDLkdGOCW",
        "outputId": "cf44c858-6f12-4b0b-9062-c2cf760461bf"
      },
      "source": [
        "history_4 = model_4.fit(train_images_norm\n",
        "                    ,train_labels\n",
        "                    ,epochs=30\n",
        "                    ,batch_size=512\n",
        "                    ,validation_data=(val_images_norm,val_labels)\n",
        "                    ,callbacks=[\n",
        "                    tf.keras.callbacks.EarlyStopping(monitor='val_accuracy', patience=3),\n",
        "                    tf.keras.callbacks.ModelCheckpoint('./models/model_{val_accuracy:.4f}.h5', save_best_only=True,\n",
        "                                        save_weights_only=False, monitor='val_accuracy')]                                                                                                           \n",
        "                   )\n",
        "\n"
      ],
      "execution_count": null,
      "outputs": [
        {
          "output_type": "stream",
          "text": [
            "Epoch 1/30\n",
            "92/92 [==============================] - 50s 533ms/step - loss: 1.8848 - accuracy: 0.2991 - val_loss: 1.4827 - val_accuracy: 0.4670\n",
            "Epoch 2/30\n",
            "92/92 [==============================] - 49s 530ms/step - loss: 1.4286 - accuracy: 0.4810 - val_loss: 1.2430 - val_accuracy: 0.5560\n",
            "Epoch 3/30\n",
            "92/92 [==============================] - 49s 534ms/step - loss: 1.2378 - accuracy: 0.5584 - val_loss: 1.1301 - val_accuracy: 0.6043\n",
            "Epoch 4/30\n",
            "92/92 [==============================] - 48s 522ms/step - loss: 1.0953 - accuracy: 0.6120 - val_loss: 0.9557 - val_accuracy: 0.6693\n",
            "Epoch 5/30\n",
            "92/92 [==============================] - 48s 521ms/step - loss: 1.0046 - accuracy: 0.6468 - val_loss: 0.8829 - val_accuracy: 0.6890\n",
            "Epoch 6/30\n",
            "92/92 [==============================] - 48s 521ms/step - loss: 0.9217 - accuracy: 0.6741 - val_loss: 0.8220 - val_accuracy: 0.7200\n",
            "Epoch 7/30\n",
            "92/92 [==============================] - 47s 513ms/step - loss: 0.8511 - accuracy: 0.7035 - val_loss: 0.8070 - val_accuracy: 0.7197\n",
            "Epoch 8/30\n",
            "92/92 [==============================] - 47s 510ms/step - loss: 0.7964 - accuracy: 0.7203 - val_loss: 0.7304 - val_accuracy: 0.7497\n",
            "Epoch 9/30\n",
            "92/92 [==============================] - 47s 514ms/step - loss: 0.7549 - accuracy: 0.7368 - val_loss: 0.6932 - val_accuracy: 0.7643\n",
            "Epoch 10/30\n",
            "92/92 [==============================] - 47s 509ms/step - loss: 0.7093 - accuracy: 0.7525 - val_loss: 0.6741 - val_accuracy: 0.7717\n",
            "Epoch 11/30\n",
            "92/92 [==============================] - 48s 518ms/step - loss: 0.6785 - accuracy: 0.7631 - val_loss: 0.6574 - val_accuracy: 0.7720\n",
            "Epoch 12/30\n",
            "92/92 [==============================] - 47s 512ms/step - loss: 0.6396 - accuracy: 0.7750 - val_loss: 0.6362 - val_accuracy: 0.7803\n",
            "Epoch 13/30\n",
            "92/92 [==============================] - 48s 518ms/step - loss: 0.6124 - accuracy: 0.7860 - val_loss: 0.6155 - val_accuracy: 0.7930\n",
            "Epoch 14/30\n",
            "92/92 [==============================] - 47s 516ms/step - loss: 0.5860 - accuracy: 0.7942 - val_loss: 0.5954 - val_accuracy: 0.7880\n",
            "Epoch 15/30\n",
            "92/92 [==============================] - 47s 514ms/step - loss: 0.5603 - accuracy: 0.8040 - val_loss: 0.6061 - val_accuracy: 0.7813\n",
            "Epoch 16/30\n",
            "92/92 [==============================] - 48s 520ms/step - loss: 0.5301 - accuracy: 0.8140 - val_loss: 0.5775 - val_accuracy: 0.8007\n",
            "Epoch 17/30\n",
            "92/92 [==============================] - 48s 524ms/step - loss: 0.5176 - accuracy: 0.8204 - val_loss: 0.6196 - val_accuracy: 0.7790\n",
            "Epoch 18/30\n",
            "92/92 [==============================] - 47s 508ms/step - loss: 0.4932 - accuracy: 0.8273 - val_loss: 0.5968 - val_accuracy: 0.7970\n",
            "Epoch 19/30\n",
            "92/92 [==============================] - 48s 519ms/step - loss: 0.4732 - accuracy: 0.8336 - val_loss: 0.5719 - val_accuracy: 0.8030\n",
            "Epoch 20/30\n",
            "92/92 [==============================] - 48s 519ms/step - loss: 0.4589 - accuracy: 0.8400 - val_loss: 0.5709 - val_accuracy: 0.8017\n",
            "Epoch 21/30\n",
            "92/92 [==============================] - 48s 519ms/step - loss: 0.4416 - accuracy: 0.8432 - val_loss: 0.5508 - val_accuracy: 0.8120\n",
            "Epoch 22/30\n",
            "92/92 [==============================] - 47s 516ms/step - loss: 0.4178 - accuracy: 0.8532 - val_loss: 0.5500 - val_accuracy: 0.8140\n",
            "Epoch 23/30\n",
            "92/92 [==============================] - 46s 505ms/step - loss: 0.3999 - accuracy: 0.8577 - val_loss: 0.5560 - val_accuracy: 0.8100\n",
            "Epoch 24/30\n",
            "92/92 [==============================] - 46s 503ms/step - loss: 0.3868 - accuracy: 0.8645 - val_loss: 0.5779 - val_accuracy: 0.8027\n",
            "Epoch 25/30\n",
            "92/92 [==============================] - 47s 506ms/step - loss: 0.3688 - accuracy: 0.8695 - val_loss: 0.5504 - val_accuracy: 0.8147\n",
            "Epoch 26/30\n",
            "92/92 [==============================] - 48s 516ms/step - loss: 0.3581 - accuracy: 0.8734 - val_loss: 0.5572 - val_accuracy: 0.8093\n",
            "Epoch 27/30\n",
            "92/92 [==============================] - 47s 509ms/step - loss: 0.3437 - accuracy: 0.8789 - val_loss: 0.5430 - val_accuracy: 0.8147\n",
            "Epoch 28/30\n",
            "92/92 [==============================] - 46s 504ms/step - loss: 0.3380 - accuracy: 0.8791 - val_loss: 0.5569 - val_accuracy: 0.8070\n"
          ],
          "name": "stdout"
        }
      ]
    },
    {
      "cell_type": "code",
      "metadata": {
        "id": "F_G5A4yO3I8a"
      },
      "source": [
        "end_time_E4 = time.process_time()\n",
        "process_time_E4 = end_time_E4 - start_time_E4"
      ],
      "execution_count": null,
      "outputs": []
    },
    {
      "cell_type": "code",
      "metadata": {
        "colab": {
          "base_uri": "https://localhost:8080/"
        },
        "id": "YfxTglYNGOFe",
        "outputId": "8e419004-90bc-4b13-c34b-6473b95a3496"
      },
      "source": [
        "loss_4, accuracy_4 = model_4.evaluate(test_images_norm, test_labels)\n",
        "print('test set accuracy: ', accuracy_4 * 100)"
      ],
      "execution_count": null,
      "outputs": [
        {
          "output_type": "stream",
          "text": [
            "313/313 [==============================] - 4s 11ms/step - loss: 0.6176 - accuracy: 0.7976\n",
            "test set accuracy:  79.75999712944031\n"
          ],
          "name": "stdout"
        }
      ]
    },
    {
      "cell_type": "code",
      "metadata": {
        "id": "RFDcNklXBQS_"
      },
      "source": [
        "# preds = model.predict(test_images_norm)\n",
        "# print('shape of preds: ', preds.shape)"
      ],
      "execution_count": null,
      "outputs": []
    },
    {
      "cell_type": "code",
      "metadata": {
        "id": "5PqES3DPmGx1"
      },
      "source": [
        "# experiment 5: DNN with 3 layers (with regularization)\n"
      ],
      "execution_count": null,
      "outputs": []
    },
    {
      "cell_type": "code",
      "metadata": {
        "id": "__gjcD1mmG00"
      },
      "source": [
        "model_5 = Sequential()\n",
        "model_5.add(Flatten(input_shape=[32, 32, 3]))\n",
        "model_5.add(Dense(128, activation = tf.nn.relu))\n",
        "model_5.add(Dense(64, activation=tf.nn.relu,kernel_regularizer=tf.keras.regularizers.L2(0.001)))\n",
        "model_5.add(Dense(10,activation = tf.nn.softmax))\n"
      ],
      "execution_count": null,
      "outputs": []
    },
    {
      "cell_type": "code",
      "metadata": {
        "colab": {
          "base_uri": "https://localhost:8080/"
        },
        "id": "uT9uf2l5mG34",
        "outputId": "b1497d75-feea-4278-898a-62b7b2eed4d8"
      },
      "source": [
        "model_5.summary()"
      ],
      "execution_count": null,
      "outputs": [
        {
          "output_type": "stream",
          "text": [
            "Model: \"sequential_4\"\n",
            "_________________________________________________________________\n",
            "Layer (type)                 Output Shape              Param #   \n",
            "=================================================================\n",
            "flatten_4 (Flatten)          (None, 3072)              0         \n",
            "_________________________________________________________________\n",
            "dense_9 (Dense)              (None, 128)               393344    \n",
            "_________________________________________________________________\n",
            "dense_10 (Dense)             (None, 64)                8256      \n",
            "_________________________________________________________________\n",
            "dense_11 (Dense)             (None, 10)                650       \n",
            "=================================================================\n",
            "Total params: 402,250\n",
            "Trainable params: 402,250\n",
            "Non-trainable params: 0\n",
            "_________________________________________________________________\n"
          ],
          "name": "stdout"
        }
      ]
    },
    {
      "cell_type": "code",
      "metadata": {
        "id": "N-T2R98SmG6E"
      },
      "source": [
        "# model_5.compile(optimizer='adam',\n",
        "#               loss=tf.keras.losses.SparseCategoricalCrossentropy(from_logits=False),\n",
        "#               metrics=['accuracy'])\n",
        "\n",
        "model_5.compile(optimizer='rmsprop',           \n",
        "               loss = 'sparse_categorical_crossentropy',\n",
        "               metrics=['accuracy'])\n",
        "start_time_E5 = time.process_time()"
      ],
      "execution_count": null,
      "outputs": []
    },
    {
      "cell_type": "code",
      "metadata": {
        "colab": {
          "base_uri": "https://localhost:8080/"
        },
        "id": "ZEc6IAinmj4O",
        "outputId": "e1c9fa27-64bf-4ebe-d31b-034947dd53cd"
      },
      "source": [
        "history_5 = model_5.fit(train_images_norm\n",
        "                    ,train_labels\n",
        "                    ,epochs=30\n",
        "                    ,batch_size=512\n",
        "                    ,validation_data=(val_images_norm,val_labels)\n",
        "                    ,callbacks=[\n",
        "                    tf.keras.callbacks.EarlyStopping(monitor='val_accuracy', patience=3),\n",
        "                    tf.keras.callbacks.ModelCheckpoint('./models/model_{val_accuracy:.4f}.h5', save_best_only=True,\n",
        "                                        save_weights_only=False, monitor='val_accuracy')]                                                                                                           \n",
        "                   )"
      ],
      "execution_count": null,
      "outputs": [
        {
          "output_type": "stream",
          "text": [
            "Epoch 1/30\n",
            "92/92 [==============================] - 1s 10ms/step - loss: 2.4991 - accuracy: 0.1815 - val_loss: 2.1404 - val_accuracy: 0.2327\n",
            "Epoch 2/30\n",
            "92/92 [==============================] - 1s 8ms/step - loss: 2.0505 - accuracy: 0.2706 - val_loss: 1.9915 - val_accuracy: 0.2977\n",
            "Epoch 3/30\n",
            "92/92 [==============================] - 1s 8ms/step - loss: 1.9368 - accuracy: 0.3102 - val_loss: 1.8028 - val_accuracy: 0.3567\n",
            "Epoch 4/30\n",
            "92/92 [==============================] - 1s 8ms/step - loss: 1.8653 - accuracy: 0.3344 - val_loss: 1.9119 - val_accuracy: 0.3227\n",
            "Epoch 5/30\n",
            "92/92 [==============================] - 1s 9ms/step - loss: 1.8157 - accuracy: 0.3566 - val_loss: 1.7692 - val_accuracy: 0.3730\n",
            "Epoch 6/30\n",
            "92/92 [==============================] - 1s 8ms/step - loss: 1.7793 - accuracy: 0.3692 - val_loss: 1.7360 - val_accuracy: 0.3650\n",
            "Epoch 7/30\n",
            "92/92 [==============================] - 1s 8ms/step - loss: 1.7536 - accuracy: 0.3790 - val_loss: 1.7725 - val_accuracy: 0.3550\n",
            "Epoch 8/30\n",
            "92/92 [==============================] - 1s 9ms/step - loss: 1.7256 - accuracy: 0.3881 - val_loss: 1.6473 - val_accuracy: 0.4277\n",
            "Epoch 9/30\n",
            "92/92 [==============================] - 1s 8ms/step - loss: 1.7033 - accuracy: 0.3986 - val_loss: 1.6585 - val_accuracy: 0.4143\n",
            "Epoch 10/30\n",
            "92/92 [==============================] - 1s 8ms/step - loss: 1.6828 - accuracy: 0.4081 - val_loss: 1.6677 - val_accuracy: 0.4050\n",
            "Epoch 11/30\n",
            "92/92 [==============================] - 1s 9ms/step - loss: 1.6652 - accuracy: 0.4131 - val_loss: 1.6345 - val_accuracy: 0.4233\n"
          ],
          "name": "stdout"
        }
      ]
    },
    {
      "cell_type": "code",
      "metadata": {
        "colab": {
          "base_uri": "https://localhost:8080/"
        },
        "id": "BA-h5iYx3g3p",
        "outputId": "bc891422-2957-48e5-b13b-aee69b463d0a"
      },
      "source": [
        "end_time_E5 = time.process_time()\n",
        "process_time_E5 = end_time_E5 - start_time_E5\n",
        "print(process_time_E5)"
      ],
      "execution_count": null,
      "outputs": [
        {
          "output_type": "stream",
          "text": [
            "83.61366824399738\n"
          ],
          "name": "stdout"
        }
      ]
    },
    {
      "cell_type": "code",
      "metadata": {
        "colab": {
          "base_uri": "https://localhost:8080/"
        },
        "id": "pUZ2khOqnbjX",
        "outputId": "9bac8aa8-2499-4300-c883-617220d3677b"
      },
      "source": [
        "loss_5, accuracy_5 = model_5.evaluate(test_images_norm, test_labels)\n",
        "print('test set accuracy: ', accuracy_5 * 100)"
      ],
      "execution_count": null,
      "outputs": [
        {
          "output_type": "stream",
          "text": [
            "313/313 [==============================] - 0s 1ms/step - loss: 1.6341 - accuracy: 0.4263\n",
            "test set accuracy:  42.62999892234802\n"
          ],
          "name": "stdout"
        }
      ]
    },
    {
      "cell_type": "code",
      "metadata": {
        "id": "HLqotWFLneJP"
      },
      "source": [
        "### experiment 6: CNN with 3 convlution/max pooling layers (with regularization)"
      ],
      "execution_count": null,
      "outputs": []
    },
    {
      "cell_type": "code",
      "metadata": {
        "id": "AzfWkx_ZnmoH"
      },
      "source": [
        "model_6 = models.Sequential()\n",
        "model_6.add(layers.Conv2D(filters=128, kernel_size=(3, 3), strides=(1, 1), activation=tf.nn.relu,input_shape=(32, 32, 3)))\n",
        "model_6.add(layers.MaxPool2D((2, 2),strides=2))\n",
        "model_6.add(layers.Dropout(0.3))\n",
        "model_6.add(layers.Conv2D(filters=256, kernel_size=(3, 3), strides=(1, 1), activation=tf.nn.relu))\n",
        "model_6.add(layers.MaxPool2D(pool_size=(2, 2),strides=2))\n",
        "model_6.add(layers.Dropout(0.3))\n",
        "model_6.add(layers.Conv2D(filters=512, kernel_size=(3, 3), strides=(1, 1), activation=tf.nn.relu))\n",
        "model_6.add(layers.MaxPool2D(pool_size=(2, 2),strides=2))\n",
        "model_6.add(layers.Dropout(0.3))\n",
        "model_6.add(layers.Flatten())\n",
        "model_6.add(layers.Dense(units=384, activation=tf.nn.relu,kernel_regularizer=tf.keras.regularizers.L2(0.001)))\n",
        "model_6.add(layers.Dense(units=10, activation=tf.nn.softmax))"
      ],
      "execution_count": null,
      "outputs": []
    },
    {
      "cell_type": "code",
      "metadata": {
        "colab": {
          "base_uri": "https://localhost:8080/"
        },
        "id": "O0LqYSh9nmuS",
        "outputId": "d9e52097-2ecb-422d-fd25-24fb6e505a8b"
      },
      "source": [
        "model_6.summary()"
      ],
      "execution_count": null,
      "outputs": [
        {
          "output_type": "stream",
          "text": [
            "Model: \"sequential_5\"\n",
            "_________________________________________________________________\n",
            "Layer (type)                 Output Shape              Param #   \n",
            "=================================================================\n",
            "conv2d_5 (Conv2D)            (None, 30, 30, 128)       3584      \n",
            "_________________________________________________________________\n",
            "max_pooling2d_5 (MaxPooling2 (None, 15, 15, 128)       0         \n",
            "_________________________________________________________________\n",
            "dropout_5 (Dropout)          (None, 15, 15, 128)       0         \n",
            "_________________________________________________________________\n",
            "conv2d_6 (Conv2D)            (None, 13, 13, 256)       295168    \n",
            "_________________________________________________________________\n",
            "max_pooling2d_6 (MaxPooling2 (None, 6, 6, 256)         0         \n",
            "_________________________________________________________________\n",
            "dropout_6 (Dropout)          (None, 6, 6, 256)         0         \n",
            "_________________________________________________________________\n",
            "conv2d_7 (Conv2D)            (None, 4, 4, 512)         1180160   \n",
            "_________________________________________________________________\n",
            "max_pooling2d_7 (MaxPooling2 (None, 2, 2, 512)         0         \n",
            "_________________________________________________________________\n",
            "dropout_7 (Dropout)          (None, 2, 2, 512)         0         \n",
            "_________________________________________________________________\n",
            "flatten_5 (Flatten)          (None, 2048)              0         \n",
            "_________________________________________________________________\n",
            "dense_12 (Dense)             (None, 384)               786816    \n",
            "_________________________________________________________________\n",
            "dense_13 (Dense)             (None, 10)                3850      \n",
            "=================================================================\n",
            "Total params: 2,269,578\n",
            "Trainable params: 2,269,578\n",
            "Non-trainable params: 0\n",
            "_________________________________________________________________\n"
          ],
          "name": "stdout"
        }
      ]
    },
    {
      "cell_type": "code",
      "metadata": {
        "id": "7ByIGAY3nm0H"
      },
      "source": [
        "model_6.compile(optimizer='adam',\n",
        "              loss=tf.keras.losses.SparseCategoricalCrossentropy(from_logits=False),\n",
        "              metrics=['accuracy'])\n",
        "start_time_E6 = time.process_time()\n"
      ],
      "execution_count": null,
      "outputs": []
    },
    {
      "cell_type": "code",
      "metadata": {
        "colab": {
          "base_uri": "https://localhost:8080/"
        },
        "id": "tDuaXPcLnm7h",
        "outputId": "3ac05340-4e18-4dd5-c0e6-11f44c627737"
      },
      "source": [
        "history_6 = model_6.fit(train_images_norm\n",
        "                    ,train_labels\n",
        "                    ,epochs=30\n",
        "                    ,batch_size=512\n",
        "                    ,validation_data=(val_images_norm,val_labels)\n",
        "                    ,callbacks=[\n",
        "                    tf.keras.callbacks.EarlyStopping(monitor='val_accuracy', patience=3),\n",
        "                    tf.keras.callbacks.ModelCheckpoint('./models/model_{val_accuracy:.4f}.h5', save_best_only=True,\n",
        "                                        save_weights_only=False, monitor='val_accuracy')]                                                                                                           \n",
        "                   )"
      ],
      "execution_count": null,
      "outputs": [
        {
          "output_type": "stream",
          "text": [
            "Epoch 1/30\n",
            "92/92 [==============================] - 47s 508ms/step - loss: 2.1865 - accuracy: 0.2830 - val_loss: 1.8196 - val_accuracy: 0.3913\n",
            "Epoch 2/30\n",
            "92/92 [==============================] - 47s 506ms/step - loss: 1.5760 - accuracy: 0.4586 - val_loss: 1.3732 - val_accuracy: 0.5457\n",
            "Epoch 3/30\n",
            "92/92 [==============================] - 47s 506ms/step - loss: 1.3939 - accuracy: 0.5247 - val_loss: 1.2239 - val_accuracy: 0.6027\n",
            "Epoch 4/30\n",
            "92/92 [==============================] - 47s 508ms/step - loss: 1.2571 - accuracy: 0.5736 - val_loss: 1.1555 - val_accuracy: 0.6240\n",
            "Epoch 5/30\n",
            "92/92 [==============================] - 48s 517ms/step - loss: 1.1644 - accuracy: 0.6111 - val_loss: 1.0304 - val_accuracy: 0.6740\n",
            "Epoch 6/30\n",
            "92/92 [==============================] - 47s 505ms/step - loss: 1.0884 - accuracy: 0.6409 - val_loss: 0.9593 - val_accuracy: 0.6953\n",
            "Epoch 7/30\n",
            "92/92 [==============================] - 47s 510ms/step - loss: 1.0196 - accuracy: 0.6638 - val_loss: 0.9142 - val_accuracy: 0.7100\n",
            "Epoch 8/30\n",
            "92/92 [==============================] - 47s 514ms/step - loss: 0.9760 - accuracy: 0.6806 - val_loss: 0.8709 - val_accuracy: 0.7307\n",
            "Epoch 9/30\n",
            "92/92 [==============================] - 47s 513ms/step - loss: 0.9282 - accuracy: 0.6974 - val_loss: 0.8308 - val_accuracy: 0.7350\n",
            "Epoch 10/30\n",
            "92/92 [==============================] - 47s 508ms/step - loss: 0.8911 - accuracy: 0.7114 - val_loss: 0.8070 - val_accuracy: 0.7423\n",
            "Epoch 11/30\n",
            "92/92 [==============================] - 47s 505ms/step - loss: 0.8705 - accuracy: 0.7204 - val_loss: 0.7744 - val_accuracy: 0.7613\n",
            "Epoch 12/30\n",
            "92/92 [==============================] - 46s 501ms/step - loss: 0.8349 - accuracy: 0.7329 - val_loss: 0.7740 - val_accuracy: 0.7710\n",
            "Epoch 13/30\n",
            "92/92 [==============================] - 47s 508ms/step - loss: 0.8083 - accuracy: 0.7430 - val_loss: 0.7930 - val_accuracy: 0.7513\n",
            "Epoch 14/30\n",
            "92/92 [==============================] - 46s 500ms/step - loss: 0.7860 - accuracy: 0.7499 - val_loss: 0.7421 - val_accuracy: 0.7727\n",
            "Epoch 15/30\n",
            "92/92 [==============================] - 47s 508ms/step - loss: 0.7549 - accuracy: 0.7606 - val_loss: 0.7354 - val_accuracy: 0.7780\n",
            "Epoch 16/30\n",
            "92/92 [==============================] - 47s 508ms/step - loss: 0.7427 - accuracy: 0.7672 - val_loss: 0.7259 - val_accuracy: 0.7753\n",
            "Epoch 17/30\n",
            "92/92 [==============================] - 47s 506ms/step - loss: 0.7214 - accuracy: 0.7734 - val_loss: 0.7223 - val_accuracy: 0.7767\n",
            "Epoch 18/30\n",
            "92/92 [==============================] - 47s 508ms/step - loss: 0.6969 - accuracy: 0.7834 - val_loss: 0.6959 - val_accuracy: 0.7933\n",
            "Epoch 19/30\n",
            "92/92 [==============================] - 47s 511ms/step - loss: 0.6823 - accuracy: 0.7870 - val_loss: 0.6758 - val_accuracy: 0.7990\n",
            "Epoch 20/30\n",
            "92/92 [==============================] - 47s 511ms/step - loss: 0.6678 - accuracy: 0.7909 - val_loss: 0.6752 - val_accuracy: 0.7977\n",
            "Epoch 21/30\n",
            "92/92 [==============================] - 47s 506ms/step - loss: 0.6605 - accuracy: 0.7938 - val_loss: 0.6694 - val_accuracy: 0.7960\n",
            "Epoch 22/30\n",
            "92/92 [==============================] - 47s 511ms/step - loss: 0.6368 - accuracy: 0.8029 - val_loss: 0.6702 - val_accuracy: 0.8010\n",
            "Epoch 23/30\n",
            "92/92 [==============================] - 47s 507ms/step - loss: 0.6260 - accuracy: 0.8082 - val_loss: 0.6830 - val_accuracy: 0.7933\n",
            "Epoch 24/30\n",
            "92/92 [==============================] - 46s 503ms/step - loss: 0.6156 - accuracy: 0.8126 - val_loss: 0.6546 - val_accuracy: 0.7997\n",
            "Epoch 25/30\n",
            "92/92 [==============================] - 46s 502ms/step - loss: 0.6056 - accuracy: 0.8146 - val_loss: 0.6753 - val_accuracy: 0.7977\n"
          ],
          "name": "stdout"
        }
      ]
    },
    {
      "cell_type": "code",
      "metadata": {
        "colab": {
          "base_uri": "https://localhost:8080/"
        },
        "id": "Z7xP6snJnyPR",
        "outputId": "c7ee76ed-0bc5-4fa8-e645-1fa75933cef1"
      },
      "source": [
        "end_time_E6 = time.process_time()\n",
        "\n",
        "loss_6, accuracy_6 = model_6.evaluate(test_images_norm, test_labels)\n",
        "print('test set accuracy: ', accuracy_6 * 100)"
      ],
      "execution_count": null,
      "outputs": [
        {
          "output_type": "stream",
          "text": [
            "313/313 [==============================] - 4s 12ms/step - loss: 0.7221 - accuracy: 0.7832\n",
            "test set accuracy:  78.32000255584717\n"
          ],
          "name": "stdout"
        }
      ]
    },
    {
      "cell_type": "code",
      "metadata": {
        "colab": {
          "base_uri": "https://localhost:8080/"
        },
        "id": "AulqHFM5F3J-",
        "outputId": "48febe14-9bca-49ee-f01a-04545d41c3b8"
      },
      "source": [
        "process_time_E6 = end_time_E6 - start_time_E6\n",
        "print(process_time_E6)"
      ],
      "execution_count": null,
      "outputs": [
        {
          "output_type": "stream",
          "text": [
            "32528.199577228006\n"
          ],
          "name": "stdout"
        }
      ]
    },
    {
      "cell_type": "code",
      "metadata": {
        "id": "XQ-Cdueqn2Mw"
      },
      "source": [
        "### experiment 7: CNN with 3 convlution/max pooling layers (with regularization) with filter size of 256, 512 and 1024"
      ],
      "execution_count": null,
      "outputs": []
    },
    {
      "cell_type": "code",
      "metadata": {
        "id": "E2LLjAoHn2V7"
      },
      "source": [
        "model_7 = models.Sequential()\n",
        "model_7.add(layers.Conv2D(filters=256, kernel_size=(3, 3), strides=(1, 1), activation=tf.nn.relu,input_shape=(32, 32, 3)))\n",
        "model_7.add(layers.MaxPool2D((2, 2),strides=2))\n",
        "model_7.add(layers.Dropout(0.3))\n",
        "model_7.add(layers.Conv2D(filters=512, kernel_size=(3, 3), strides=(1, 1), activation=tf.nn.relu))\n",
        "model_7.add(layers.MaxPool2D(pool_size=(2, 2),strides=2))\n",
        "model_7.add(layers.Dropout(0.3))\n",
        "model_7.add(layers.Conv2D(filters=1024, kernel_size=(3, 3), strides=(1, 1), activation=tf.nn.relu))\n",
        "model_7.add(layers.MaxPool2D(pool_size=(2, 2),strides=2))\n",
        "model_7.add(layers.Dropout(0.3))\n",
        "model_7.add(layers.Flatten())\n",
        "model_7.add(layers.Dense(units=384, activation=tf.nn.relu,kernel_regularizer=tf.keras.regularizers.L2(0.001)))\n",
        "model_7.add(layers.Dense(units=10, activation=tf.nn.softmax))"
      ],
      "execution_count": null,
      "outputs": []
    },
    {
      "cell_type": "code",
      "metadata": {
        "colab": {
          "base_uri": "https://localhost:8080/"
        },
        "id": "4X3_hyQRn2Yx",
        "outputId": "f0a7e3bf-0ea1-4851-a0d8-de52528faf58"
      },
      "source": [
        "model_7.summary()"
      ],
      "execution_count": null,
      "outputs": [
        {
          "output_type": "stream",
          "text": [
            "Model: \"sequential_6\"\n",
            "_________________________________________________________________\n",
            "Layer (type)                 Output Shape              Param #   \n",
            "=================================================================\n",
            "conv2d_8 (Conv2D)            (None, 30, 30, 256)       7168      \n",
            "_________________________________________________________________\n",
            "max_pooling2d_8 (MaxPooling2 (None, 15, 15, 256)       0         \n",
            "_________________________________________________________________\n",
            "dropout_8 (Dropout)          (None, 15, 15, 256)       0         \n",
            "_________________________________________________________________\n",
            "conv2d_9 (Conv2D)            (None, 13, 13, 512)       1180160   \n",
            "_________________________________________________________________\n",
            "max_pooling2d_9 (MaxPooling2 (None, 6, 6, 512)         0         \n",
            "_________________________________________________________________\n",
            "dropout_9 (Dropout)          (None, 6, 6, 512)         0         \n",
            "_________________________________________________________________\n",
            "conv2d_10 (Conv2D)           (None, 4, 4, 1024)        4719616   \n",
            "_________________________________________________________________\n",
            "max_pooling2d_10 (MaxPooling (None, 2, 2, 1024)        0         \n",
            "_________________________________________________________________\n",
            "dropout_10 (Dropout)         (None, 2, 2, 1024)        0         \n",
            "_________________________________________________________________\n",
            "flatten_6 (Flatten)          (None, 4096)              0         \n",
            "_________________________________________________________________\n",
            "dense_14 (Dense)             (None, 384)               1573248   \n",
            "_________________________________________________________________\n",
            "dense_15 (Dense)             (None, 10)                3850      \n",
            "=================================================================\n",
            "Total params: 7,484,042\n",
            "Trainable params: 7,484,042\n",
            "Non-trainable params: 0\n",
            "_________________________________________________________________\n"
          ],
          "name": "stdout"
        }
      ]
    },
    {
      "cell_type": "code",
      "metadata": {
        "id": "zDNQZAB2n2b5"
      },
      "source": [
        "model_7.compile(optimizer='adam',\n",
        "              loss=tf.keras.losses.SparseCategoricalCrossentropy(from_logits=False),\n",
        "              metrics=['accuracy'])\n",
        "start_time_E7 = time.process_time()\n"
      ],
      "execution_count": null,
      "outputs": []
    },
    {
      "cell_type": "code",
      "metadata": {
        "id": "94eG8C3An2eE",
        "colab": {
          "base_uri": "https://localhost:8080/"
        },
        "outputId": "a23d5666-0452-448a-e553-f5a754ba39b5"
      },
      "source": [
        "history_7 = model_7.fit(train_images_norm\n",
        "                    ,train_labels\n",
        "                    ,epochs=30\n",
        "                    ,batch_size=512\n",
        "                    ,validation_data=(val_images_norm,val_labels)\n",
        "                    ,callbacks=[\n",
        "                    tf.keras.callbacks.EarlyStopping(monitor='val_accuracy', patience=3),\n",
        "                    tf.keras.callbacks.ModelCheckpoint('./models/model_{val_accuracy:.4f}.h5', save_best_only=True,\n",
        "                                        save_weights_only=False, monitor='val_accuracy')]                                                                                                           \n",
        "                   )"
      ],
      "execution_count": null,
      "outputs": [
        {
          "output_type": "stream",
          "text": [
            "Epoch 1/30\n",
            "92/92 [==============================] - 242s 3s/step - loss: 2.1558 - accuracy: 0.2870 - val_loss: 1.6910 - val_accuracy: 0.4127\n",
            "Epoch 2/30\n",
            "92/92 [==============================] - 238s 3s/step - loss: 1.5448 - accuracy: 0.4707 - val_loss: 1.3672 - val_accuracy: 0.5393\n",
            "Epoch 3/30\n",
            "92/92 [==============================] - 238s 3s/step - loss: 1.3498 - accuracy: 0.5437 - val_loss: 1.1893 - val_accuracy: 0.6127\n",
            "Epoch 4/30\n",
            "92/92 [==============================] - 235s 3s/step - loss: 1.2278 - accuracy: 0.5910 - val_loss: 1.1165 - val_accuracy: 0.6453\n",
            "Epoch 5/30\n",
            "92/92 [==============================] - 234s 3s/step - loss: 1.1349 - accuracy: 0.6261 - val_loss: 1.0203 - val_accuracy: 0.6733\n",
            "Epoch 6/30\n",
            "92/92 [==============================] - 237s 3s/step - loss: 1.0656 - accuracy: 0.6523 - val_loss: 0.9699 - val_accuracy: 0.6970\n",
            "Epoch 7/30\n",
            "92/92 [==============================] - 236s 3s/step - loss: 1.0098 - accuracy: 0.6728 - val_loss: 0.9039 - val_accuracy: 0.7177\n",
            "Epoch 8/30\n",
            "92/92 [==============================] - 245s 3s/step - loss: 0.9513 - accuracy: 0.6939 - val_loss: 0.8578 - val_accuracy: 0.7350\n",
            "Epoch 9/30\n",
            "92/92 [==============================] - 247s 3s/step - loss: 0.9175 - accuracy: 0.7071 - val_loss: 0.8710 - val_accuracy: 0.7313\n",
            "Epoch 10/30\n",
            "92/92 [==============================] - 248s 3s/step - loss: 0.8794 - accuracy: 0.7215 - val_loss: 0.8586 - val_accuracy: 0.7357\n",
            "Epoch 11/30\n",
            "92/92 [==============================] - 243s 3s/step - loss: 0.8565 - accuracy: 0.7320 - val_loss: 0.8020 - val_accuracy: 0.7487\n",
            "Epoch 12/30\n",
            "92/92 [==============================] - 237s 3s/step - loss: 0.8244 - accuracy: 0.7437 - val_loss: 0.7764 - val_accuracy: 0.7633\n",
            "Epoch 13/30\n",
            "92/92 [==============================] - 237s 3s/step - loss: 0.8023 - accuracy: 0.7502 - val_loss: 0.8070 - val_accuracy: 0.7517\n",
            "Epoch 14/30\n",
            "92/92 [==============================] - 237s 3s/step - loss: 0.7888 - accuracy: 0.7558 - val_loss: 0.7490 - val_accuracy: 0.7763\n",
            "Epoch 15/30\n",
            "92/92 [==============================] - 237s 3s/step - loss: 0.7708 - accuracy: 0.7615 - val_loss: 0.7851 - val_accuracy: 0.7657\n",
            "Epoch 16/30\n",
            "92/92 [==============================] - 237s 3s/step - loss: 0.7552 - accuracy: 0.7690 - val_loss: 0.7581 - val_accuracy: 0.7733\n",
            "Epoch 17/30\n",
            "92/92 [==============================] - 236s 3s/step - loss: 0.7273 - accuracy: 0.7808 - val_loss: 0.7487 - val_accuracy: 0.7740\n"
          ],
          "name": "stdout"
        }
      ]
    },
    {
      "cell_type": "code",
      "metadata": {
        "id": "saERQL3poByz",
        "colab": {
          "base_uri": "https://localhost:8080/"
        },
        "outputId": "05c39509-fd1d-414f-e327-f535bbc2516d"
      },
      "source": [
        "end_time_E7 = time.process_time()\n",
        "\n",
        "loss_7, accuracy_7 = model_7.evaluate(test_images_norm, test_labels)\n",
        "print('test set accuracy: ', accuracy_7 * 100)"
      ],
      "execution_count": null,
      "outputs": [
        {
          "output_type": "stream",
          "text": [
            "313/313 [==============================] - 8s 27ms/step - loss: 0.7880 - accuracy: 0.7644\n",
            "test set accuracy:  76.44000053405762\n"
          ],
          "name": "stdout"
        }
      ]
    },
    {
      "cell_type": "code",
      "metadata": {
        "id": "CV4ozAgGFnd3",
        "colab": {
          "base_uri": "https://localhost:8080/"
        },
        "outputId": "b84c39c1-2252-49be-e6c0-4197952916dc"
      },
      "source": [
        "process_time_E7 = end_time_E7 - start_time_E7\n",
        "print(process_time_E7)"
      ],
      "execution_count": null,
      "outputs": [
        {
          "output_type": "stream",
          "text": [
            "96055.16041944899\n"
          ],
          "name": "stdout"
        }
      ]
    },
    {
      "cell_type": "code",
      "metadata": {
        "id": "9sEK64ugLgzr"
      },
      "source": [
        "from tabulate import tabulate"
      ],
      "execution_count": null,
      "outputs": []
    },
    {
      "cell_type": "code",
      "metadata": {
        "id": "dF9cD9zDLg2p",
        "colab": {
          "base_uri": "https://localhost:8080/"
        },
        "outputId": "6165b6fe-a58f-4efc-cb7b-304c66236c58"
      },
      "source": [
        "## Create Table for Tensor Flow Neural Network Benchmark Experiment Results\n",
        "col_labels = ['Model','Processing Time','Test Set Accuracy']\n",
        "\n",
        "table_vals = [['DNN with 2 layers',process_time_E1,accuracy_1],\n",
        "              ['DNN with 3 layers',process_time_E2,accuracy_2],\n",
        "              ['CNN with 2 Maxpool layers',process_time_E3,accuracy_3],\n",
        "              ['CNN with 3 Maxpool layers',process_time_E4,accuracy_4],\n",
        "              ['DNN with 3 layers and regularization',process_time_E5,accuracy_5],\n",
        "              ['CNN with 3 Maxpool layers with regularization',process_time_E6,accuracy_6],\n",
        "              ['CNN with 3 Maxpool layers regularization(256, 512,1024)',process_time_E7,accuracy_7],]\n",
        "\n",
        "table = tabulate(table_vals, headers=col_labels, tablefmt=\"simple\",numalign=\"left\")\n",
        "print('-------- Table for DNN and CNN Benchmark Experiment Results:' )\n",
        "print(table) "
      ],
      "execution_count": null,
      "outputs": [
        {
          "output_type": "stream",
          "text": [
            "-------- Table for DNN and CNN Benchmark Experiment Results:\n",
            "Model                                                    Processing Time    Test Set Accuracy\n",
            "-------------------------------------------------------  -----------------  -------------------\n",
            "DNN with 2 layers                                        276.974            0.4238\n",
            "DNN with 3 layers                                        318.391            0.4494\n",
            "CNN with 2 Maxpool layers                                50499.6            0.7435\n",
            "CNN with 3 Maxpool layers                                36886              0.7976\n",
            "DNN with 3 layers and regularization                     83.6137            0.4263\n",
            "CNN with 3 Maxpool layers with regularization            32528.2            0.7832\n",
            "CNN with 3 Maxpool layers regularization(256, 512,1024)  96055.2            0.7644\n"
          ],
          "name": "stdout"
        }
      ]
    },
    {
      "cell_type": "markdown",
      "metadata": {
        "id": "Q1dk3sX1BQS_"
      },
      "source": [
        "## Plotting Performance Metrics \n",
        "\n",
        "We use Matplotlib to create 2 plots--displaying the training and validation loss (resp. accuracy) for each (training) epoch side by side."
      ]
    },
    {
      "cell_type": "code",
      "metadata": {
        "id": "ROIyEsUtBQS_",
        "colab": {
          "base_uri": "https://localhost:8080/"
        },
        "outputId": "fc86ee21-0185-4a64-8f69-a97970da905b"
      },
      "source": [
        "history_dict = history_4.history\n",
        "history_dict.keys()"
      ],
      "execution_count": null,
      "outputs": [
        {
          "output_type": "execute_result",
          "data": {
            "text/plain": [
              "dict_keys(['loss', 'accuracy', 'val_loss', 'val_accuracy'])"
            ]
          },
          "metadata": {
            "tags": []
          },
          "execution_count": 72
        }
      ]
    },
    {
      "cell_type": "code",
      "metadata": {
        "id": "NxYHCMOlBQS_",
        "colab": {
          "base_uri": "https://localhost:8080/",
          "height": 204
        },
        "outputId": "0309ae05-f41f-4cd6-d484-2d578164e0d1"
      },
      "source": [
        "history_df=pd.DataFrame(history_dict)\n",
        "history_df.tail().round(3)"
      ],
      "execution_count": null,
      "outputs": [
        {
          "output_type": "execute_result",
          "data": {
            "text/html": [
              "<div>\n",
              "<style scoped>\n",
              "    .dataframe tbody tr th:only-of-type {\n",
              "        vertical-align: middle;\n",
              "    }\n",
              "\n",
              "    .dataframe tbody tr th {\n",
              "        vertical-align: top;\n",
              "    }\n",
              "\n",
              "    .dataframe thead th {\n",
              "        text-align: right;\n",
              "    }\n",
              "</style>\n",
              "<table border=\"1\" class=\"dataframe\">\n",
              "  <thead>\n",
              "    <tr style=\"text-align: right;\">\n",
              "      <th></th>\n",
              "      <th>loss</th>\n",
              "      <th>accuracy</th>\n",
              "      <th>val_loss</th>\n",
              "      <th>val_accuracy</th>\n",
              "    </tr>\n",
              "  </thead>\n",
              "  <tbody>\n",
              "    <tr>\n",
              "      <th>23</th>\n",
              "      <td>0.387</td>\n",
              "      <td>0.865</td>\n",
              "      <td>0.578</td>\n",
              "      <td>0.803</td>\n",
              "    </tr>\n",
              "    <tr>\n",
              "      <th>24</th>\n",
              "      <td>0.369</td>\n",
              "      <td>0.870</td>\n",
              "      <td>0.550</td>\n",
              "      <td>0.815</td>\n",
              "    </tr>\n",
              "    <tr>\n",
              "      <th>25</th>\n",
              "      <td>0.358</td>\n",
              "      <td>0.873</td>\n",
              "      <td>0.557</td>\n",
              "      <td>0.809</td>\n",
              "    </tr>\n",
              "    <tr>\n",
              "      <th>26</th>\n",
              "      <td>0.344</td>\n",
              "      <td>0.879</td>\n",
              "      <td>0.543</td>\n",
              "      <td>0.815</td>\n",
              "    </tr>\n",
              "    <tr>\n",
              "      <th>27</th>\n",
              "      <td>0.338</td>\n",
              "      <td>0.879</td>\n",
              "      <td>0.557</td>\n",
              "      <td>0.807</td>\n",
              "    </tr>\n",
              "  </tbody>\n",
              "</table>\n",
              "</div>"
            ],
            "text/plain": [
              "     loss  accuracy  val_loss  val_accuracy\n",
              "23  0.387     0.865     0.578         0.803\n",
              "24  0.369     0.870     0.550         0.815\n",
              "25  0.358     0.873     0.557         0.809\n",
              "26  0.344     0.879     0.543         0.815\n",
              "27  0.338     0.879     0.557         0.807"
            ]
          },
          "metadata": {
            "tags": []
          },
          "execution_count": 73
        }
      ]
    },
    {
      "cell_type": "code",
      "metadata": {
        "id": "d0WufsyEBQS_"
      },
      "source": [
        "losses = history_4.history['loss']\n",
        "accs = history_4.history['accuracy']\n",
        "val_losses = history_4.history['val_loss']\n",
        "val_accs = history_4.history['val_accuracy']\n",
        "epochs = len(losses)"
      ],
      "execution_count": null,
      "outputs": []
    },
    {
      "cell_type": "code",
      "metadata": {
        "id": "PX_RmAQgBQS_",
        "scrolled": false,
        "colab": {
          "base_uri": "https://localhost:8080/",
          "height": 54
        },
        "outputId": "0c667b25-a22f-45f2-adf5-788399fea01b"
      },
      "source": [
        "plt.figure(figsize=(16, 4))\n",
        "for i, metrics in enumerate(zip([losses, accs], [val_losses, val_accs], ['Loss', 'Accuracy'])):\n",
        "    plt.subplot(1, 2, i + 1)\n",
        "    plt.plot(range(epochs), metrics[0], label='Training {}'.format(metrics[2]))\n",
        "    plt.plot(range(epochs), metrics[1], label='Validation {}'.format(metrics[2]))\n",
        "    plt.legend()\n",
        "plt.show()"
      ],
      "execution_count": null,
      "outputs": [
        {
          "output_type": "display_data",
          "data": {
            "image/png": "[encoded data removed]",
            "text/plain": [
              "<Figure size 1152x288 with 2 Axes>"
            ]
          },
          "metadata": {
            "tags": [],
            "needs_background": "light"
          }
        }
      ]
    }
  ]
}